{
 "cells": [
  {
   "cell_type": "code",
   "execution_count": 1,
   "metadata": {},
   "outputs": [
    {
     "data": {
      "text/html": [
       "<div>\n",
       "<style scoped>\n",
       "    .dataframe tbody tr th:only-of-type {\n",
       "        vertical-align: middle;\n",
       "    }\n",
       "\n",
       "    .dataframe tbody tr th {\n",
       "        vertical-align: top;\n",
       "    }\n",
       "\n",
       "    .dataframe thead th {\n",
       "        text-align: right;\n",
       "    }\n",
       "</style>\n",
       "<table border=\"1\" class=\"dataframe\">\n",
       "  <thead>\n",
       "    <tr style=\"text-align: right;\">\n",
       "      <th></th>\n",
       "      <th>Unnamed: 0</th>\n",
       "      <th>business_id</th>\n",
       "      <th>stars</th>\n",
       "      <th>tokenized_category</th>\n",
       "    </tr>\n",
       "  </thead>\n",
       "  <tbody>\n",
       "    <tr>\n",
       "      <th>0</th>\n",
       "      <td>0</td>\n",
       "      <td>QXAEGFB4oINsVuTFxEYKFQ</td>\n",
       "      <td>2.5</td>\n",
       "      <td>['Specialty', 'Food', 'Restaurants', 'Dim', 'S...</td>\n",
       "    </tr>\n",
       "    <tr>\n",
       "      <th>1</th>\n",
       "      <td>1</td>\n",
       "      <td>68dUKd8_8liJ7in4aWOSEA</td>\n",
       "      <td>2.5</td>\n",
       "      <td>['Shipping', 'Centers', 'Couriers', 'Delivery'...</td>\n",
       "    </tr>\n",
       "    <tr>\n",
       "      <th>2</th>\n",
       "      <td>2</td>\n",
       "      <td>A98xW4qb7vOTguggHFs7Ng</td>\n",
       "      <td>4.0</td>\n",
       "      <td>['Fitness', 'Instruction', 'Active', 'Life', '...</td>\n",
       "    </tr>\n",
       "    <tr>\n",
       "      <th>3</th>\n",
       "      <td>3</td>\n",
       "      <td>zSpQmEBvRe3IhTUlMSA6HQ</td>\n",
       "      <td>4.0</td>\n",
       "      <td>['Trainers', 'Health', 'Medical', 'Active', 'L...</td>\n",
       "    </tr>\n",
       "    <tr>\n",
       "      <th>4</th>\n",
       "      <td>4</td>\n",
       "      <td>C9oCPomVP0mtKa8z99E3gg</td>\n",
       "      <td>4.5</td>\n",
       "      <td>['Bakeries', 'Food']</td>\n",
       "    </tr>\n",
       "  </tbody>\n",
       "</table>\n",
       "</div>"
      ],
      "text/plain": [
       "   Unnamed: 0             business_id  stars  \\\n",
       "0           0  QXAEGFB4oINsVuTFxEYKFQ    2.5   \n",
       "1           1  68dUKd8_8liJ7in4aWOSEA    2.5   \n",
       "2           2  A98xW4qb7vOTguggHFs7Ng    4.0   \n",
       "3           3  zSpQmEBvRe3IhTUlMSA6HQ    4.0   \n",
       "4           4  C9oCPomVP0mtKa8z99E3gg    4.5   \n",
       "\n",
       "                                  tokenized_category  \n",
       "0  ['Specialty', 'Food', 'Restaurants', 'Dim', 'S...  \n",
       "1  ['Shipping', 'Centers', 'Couriers', 'Delivery'...  \n",
       "2  ['Fitness', 'Instruction', 'Active', 'Life', '...  \n",
       "3  ['Trainers', 'Health', 'Medical', 'Active', 'L...  \n",
       "4                               ['Bakeries', 'Food']  "
      ]
     },
     "execution_count": 1,
     "metadata": {},
     "output_type": "execute_result"
    }
   ],
   "source": [
    "import pandas as pd\n",
    "recsys_df = pd.read_csv('basic_rec_df.csv')\n",
    "recsys_df.head()"
   ]
  },
  {
   "cell_type": "code",
   "execution_count": 3,
   "metadata": {},
   "outputs": [],
   "source": [
    "recsys_df.drop(['Unnamed: 0'],inplace=True, axis=1)"
   ]
  },
  {
   "cell_type": "code",
   "execution_count": 5,
   "metadata": {},
   "outputs": [
    {
     "data": {
      "text/plain": [
       "33412"
      ]
     },
     "execution_count": 5,
     "metadata": {},
     "output_type": "execute_result"
    }
   ],
   "source": [
    "len(recsys_df)"
   ]
  },
  {
   "cell_type": "code",
   "execution_count": null,
   "metadata": {},
   "outputs": [],
   "source": []
  }
 ],
 "metadata": {
  "kernelspec": {
   "display_name": "Python 3",
   "language": "python",
   "name": "python3"
  },
  "language_info": {
   "codemirror_mode": {
    "name": "ipython",
    "version": 3
   },
   "file_extension": ".py",
   "mimetype": "text/x-python",
   "name": "python",
   "nbconvert_exporter": "python",
   "pygments_lexer": "ipython3",
   "version": "3.6.5"
  }
 },
 "nbformat": 4,
 "nbformat_minor": 2
}
